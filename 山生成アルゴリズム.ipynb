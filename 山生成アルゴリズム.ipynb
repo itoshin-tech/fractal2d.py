{
 "cells": [
  {
   "cell_type": "markdown",
   "metadata": {},
   "source": [
    "# 中点変異法"
   ]
  },
  {
   "cell_type": "code",
   "execution_count": 13,
   "metadata": {
    "scrolled": true
   },
   "outputs": [
    {
     "data": {
      "image/png": "[encoded data removed]",
      "text/plain": [
       "<PIL.Image.Image image mode=RGB size=200x200 at 0x295FFCFE358>"
      ]
     },
     "execution_count": 13,
     "metadata": {},
     "output_type": "execute_result"
    }
   ],
   "source": [
    "from PIL import Image, ImageDraw\n",
    "import numpy as np\n",
    "\n",
    "# 画像の大きさ\n",
    "W, H = 200, 200\n",
    "# XYの範囲\n",
    "X0, X1 = -10, 10\n",
    "Y0, Y1 = -10, 10\n",
    " \n",
    "# Xからuへの変換\n",
    "def x2u(x):\n",
    "    a = W/(X1 - X0)\n",
    "    b = -X0*a\n",
    "    return int(a * x + b)\n",
    " \n",
    "# Yからvへの変換\n",
    "def y2v(y):\n",
    "    a = H/(Y0 - Y1)\n",
    "    b = -Y1*a\n",
    "    return int(a * y + b)\n",
    "\n",
    "def xy2uv(r):\n",
    "    u = x2u(r[0])\n",
    "    v = y2v(r[1])\n",
    "    return np.array([u, v])\n",
    "\n",
    "def myline(draw, r0, r1, col=(255, 255, 0), w=3):\n",
    "    s0 = xy2uv(r0)\n",
    "    s1 = xy2uv(r1)\n",
    "    draw.line((s0[0], s0[1], s1[0], s1[1]), \n",
    "          fill=col, width=w)\n",
    "    return\n",
    "    \n",
    "# test\n",
    "img = Image.new(\"RGB\", (W, H), (128, 128, 128))\n",
    "draw = ImageDraw.Draw(img)\n",
    "myline(draw, (0, 0), (5, 5), col=(0, 255, 0), w=5)\n",
    "img # 画像表示"
   ]
  },
  {
   "cell_type": "markdown",
   "metadata": {},
   "source": [
    "# 1次元バージョン"
   ]
  },
  {
   "cell_type": "code",
   "execution_count": 97,
   "metadata": {},
   "outputs": [
    {
     "data": {
      "image/png": "[encoded data removed]",
      "text/plain": [
       "<PIL.Image.Image image mode=RGB size=400x200 at 0x295FFD4B6A0>"
      ]
     },
     "execution_count": 97,
     "metadata": {},
     "output_type": "execute_result"
    }
   ],
   "source": [
    "# r0, r1 を線で結ぶ機能\n",
    "# 中点をm としたら、r0, m, r1 を作成。|r0 - r1| * alpha の乱数を加える\n",
    "\n",
    "def mountain(draw, r0, r1, nn, alpha=0.3, col=(0, 255, 0), w=5):\n",
    "    if nn > 1:\n",
    "        mm = (r0 + r1) / 2\n",
    "        mm[1] += np.random.randn() * alpha * np.abs(r0[0] - r1[0])\n",
    "        mountain(draw, r0, mm, nn - 1, col=col, w=w)\n",
    "        mountain(draw, mm, r1, nn - 1, col=col, w=w)\n",
    "        return mm\n",
    "    else:       \n",
    "        myline(draw, r0, r1, col=col, w=w)\n",
    "        return None\n",
    "\n",
    "# 画像の大きさ\n",
    "W, H = 400, 200\n",
    "# XYの範囲\n",
    "X0, X1 = -10, 10\n",
    "Y0, Y1 = -10, 10\n",
    " \n",
    "\n",
    "img = Image.new(\"RGB\", (W, H), (128, 128, 128))\n",
    "draw = ImageDraw.Draw(img)\n",
    "r0 = np.array((-10, 0))\n",
    "r1 = np.array((10, 0))\n",
    "mountain(draw, r0, r1, 8, alpha=0.4, col=(255, 255, 0), w=1)\n",
    "img"
   ]
  },
  {
   "cell_type": "markdown",
   "metadata": {},
   "source": [
    "# 2次元バージョン"
   ]
  },
  {
   "cell_type": "code",
   "execution_count": 124,
   "metadata": {
    "scrolled": true
   },
   "outputs": [
    {
     "data": {
      "image/png": "[encoded data removed]",
      "text/plain": [
       "<PIL.Image.Image image mode=RGB size=200x200 at 0x295FD89F518>"
      ]
     },
     "execution_count": 124,
     "metadata": {},
     "output_type": "execute_result"
    }
   ],
   "source": [
    "# Xからuへの変換\n",
    "class Trans:\n",
    "    def __init__(self, W=200, H=200,\n",
    "                 X0=-10, X1=10,\n",
    "                 Y0=-10, Y1=10,\n",
    "                 dXdZ=0.5, dYdZ=0.5):\n",
    "        self.W = W\n",
    "        self.H = H\n",
    "        self.X0 = X0\n",
    "        self.X1 = X1\n",
    "        self.Y0 = Y0\n",
    "        self.Y1 = Y1\n",
    "        self.dXdZ = dXdZ\n",
    "        self.dYdZ = dYdZ\n",
    "        self.unitX = self.x2u(1) - self.x2u(0)\n",
    "        self.unitY = self.y2v(1) - self.y2v(0)\n",
    "        \n",
    "    def x2u(self, x):\n",
    "        # xからuへの変換\n",
    "        a = self.W / (self.X1 - self.X0)\n",
    "        b = -self.X0 * a\n",
    "        return int(a * x + b)\n",
    "\n",
    "    # yからvへの変換\n",
    "    def y2v(self, y):\n",
    "        a = self.H / (self.Y0 - self.Y1)\n",
    "        b = -self.Y1 * a\n",
    "        return int(a * y + b)\n",
    "\n",
    "    def xyz2uv(self, r):\n",
    "        # xyz から uv\n",
    "        u = self.x2u(r[0]) + self.unitX * self.dXdZ * r[2]\n",
    "        v = self.y2v(r[1]) + self.unitY * self.dYdZ * r[2]\n",
    "        return np.array([u, v])\n",
    "\n",
    "    def line3d(self, draw, r0, r1, col=(255, 255, 255), ww=1):\n",
    "        s0 = self.xyz2uv(r0)\n",
    "        s1 = self.xyz2uv(r1)\n",
    "        draw.line((s0[0], s0[1], s1[0], s1[1]), \n",
    "              fill=col, width=ww)\n",
    "        return\n",
    "\n",
    "    def mountain2d(self, draw, r0, r1, r2, r3, nn, alpha=0.3, col=(0, 0, 0), ww=1):\n",
    "        if nn > 1:\n",
    "            mm = (r0 + r1 + r2 + r3) / 4\n",
    "            r01 = (r0 + r1) / 2 + np.random.randn() * np.linalg.norm(r0 - r1) * alpha \n",
    "            r02 = (r0 + r2) / 2 + np.random.randn() * np.linalg.norm(r0 - r2) * alpha \n",
    "            r13 = (r1 + r3) / 2 + np.random.randn() * np.linalg.norm(r1 - r3) * alpha \n",
    "            r23 = (r2 + r3) / 2 + np.random.randn() * np.linalg.norm(r2 - r3) * alpha \n",
    "            self.mountain2d(draw, r0, r01, r02, mm, nn - 1, alpha=alpha, col=col, ww=ww)\n",
    "            self.mountain2d(draw, r01, r1, mm, r13, nn - 1 , alpha=alpha, col=col, ww=ww)\n",
    "            self.mountain2d(draw, r02, mm, r2, r23, nn - 1, alpha=alpha, col=col, ww=ww)\n",
    "            self.mountain2d(draw, mm, r13, r23, r3, nn - 1, alpha=alpha, col=col, ww=ww)\n",
    "        else:\n",
    "            self.line3d(draw, r0, r1, col=col, ww=ww)\n",
    "            self.line3d(draw, r0, r2, col=col, ww=ww)\n",
    "            self.line3d(draw, r1, r3, col=col, ww=ww)\n",
    "            self.line3d(draw, r2, r3, col=col, ww=ww)\n",
    "\n",
    "# main\n",
    "\n",
    "W = 200\n",
    "H = 200\n",
    "img = Image.new(\"RGB\", (W, H), (128, 128, 128))\n",
    "draw = ImageDraw.Draw(img)\n",
    "ss = 6\n",
    "r0 = np.array((-ss, ss, 0))\n",
    "r1 = np.array((ss, ss, 0))\n",
    "r2 = np.array((-ss, -ss, 0))\n",
    "r3 = np.array((ss, -ss, 0))\n",
    "\n",
    "tt = Trans()\n",
    "tt.mountain2d(draw, r0, r1, r2, r3, nn=4, alpha=0.02, col=(200, 200, 200))\n",
    "img"
   ]
  },
  {
   "cell_type": "markdown",
   "metadata": {},
   "source": [
    "この方法だと隙間が空いてしまうのだった。"
   ]
  },
  {
   "cell_type": "markdown",
   "metadata": {},
   "source": [
    "# 2次元配列に高さを入れる方法"
   ]
  },
  {
   "cell_type": "code",
   "execution_count": 350,
   "metadata": {
    "scrolled": false
   },
   "outputs": [
    {
     "name": "stdout",
     "output_type": "stream",
     "text": [
      "ff (17, 17)\n",
      "0.5\n",
      "----- [8 0]\n",
      "nn 2, ss 5\n",
      "[[0. 0. 0. 0. 0.]\n",
      " [0. 0. 0. 0. 0.]\n",
      " [0. 0. 0. 0. 0.]\n",
      " [0. 0. 0. 0. 0.]\n",
      " [0. 0. 0. 0. 1.]]\n",
      "0.25\n",
      "----- [12  0]\n",
      "nn 2, ss 5\n",
      "[[0. 0. 0. 0. 1.]]\n",
      "0.5\n",
      "----- [8 4]\n",
      "nn 2, ss 5\n",
      "[[0. 0. 0. 0. 0.]\n",
      " [0. 0. 0. 0. 0.]\n",
      " [0. 0. 0. 0. 0.]\n",
      " [0. 0. 0. 0. 0.]\n",
      " [1. 0. 0. 0. 0.]]\n",
      "0.25\n",
      "----- [12  4]\n",
      "nn 2, ss 5\n",
      "[[1. 0. 0. 0. 0.]]\n"
     ]
    },
    {
     "data": {
      "image/png": "[encoded data removed]",
      "text/plain": [
       "<Figure size 432x432 with 1 Axes>"
      ]
     },
     "metadata": {
      "needs_background": "light"
     },
     "output_type": "display_data"
    }
   ],
   "source": [
    "import matplotlib.pyplot as plt\n",
    "%matplotlib inline\n",
    "# サイズは漸化式で求まる\n",
    "# a1 = 3\n",
    "# a2 = 2 * a1 - 1\n",
    "# an = 2**n + 1\n",
    "\n",
    "def update(si, nn=3, alpha=0.1):\n",
    "    di = np.array([[0, 0], [1, 0], [0, 1], [1, 1]], dtype=np.uint8)  \n",
    "    \n",
    "    if nn < 2:\n",
    "        return\n",
    "    ss = 2 ** nn + 1\n",
    "    # 中心の値を入力\n",
    "    val = np.zeros(4)\n",
    "    for i in range(4):\n",
    "        ci = si + di[i] * (ss - 1)\n",
    "        val[i] = ff[ci[0], ci[1]]\n",
    "    center_val = np.mean(val) + np.random.rand() * ss * alpha\n",
    "    # /////\n",
    "    if center_val < 0.99:\n",
    "        print(center_val)\n",
    "        print('-----', si)\n",
    "        print('nn %d, ss %d' % (nn, ss))\n",
    "        print(ff[ci[0]:ci[0]+ss, ci[1]:ci[1]+ss])\n",
    "        return\n",
    "    # /////\n",
    "    cx = int(si[0] + 0.5 * (ss - 1)) \n",
    "    cy = int(si[1] + 0.5 * (ss - 1))\n",
    "    ff[cy, cx] = center_val\n",
    "    \n",
    "    # 辺の中点の値を入力\n",
    "    # up\n",
    "    edge_val = (val[0] + val[1] +center_val) / 3 + np.random.rand() * ss * alpha\n",
    "    cx = int(si[0] + 0.5 * (ss - 1)) \n",
    "    cy = int(si[1])\n",
    "    if ff[cy, cx] == 0:\n",
    "        ff[cy, cx] = edge_val\n",
    "    # left\n",
    "    edge_val = (val[0] + val[2] +center_val) / 3 + np.random.rand() * ss * alpha\n",
    "    cx = int(si[0]) \n",
    "    cy = int(si[1] + 0.5 * (ss - 1))\n",
    "    if ff[cy, cx] == 0:\n",
    "        ff[cy, cx] = edge_val\n",
    "    # right\n",
    "    edge_val = (val[1] + val[3] +center_val) / 3 + np.random.rand() * ss * alpha\n",
    "    cx = int(si[0] + (ss - 1)) \n",
    "    cy = int(si[1] + 0.5 * (ss - 1))\n",
    "    if ff[cy, cx] == 0:\n",
    "        ff[cy, cx] = edge_val\n",
    "    # down\n",
    "    edge_val = (val[2] + val[3] +center_val) / 3 + np.random.rand() * ss * alpha\n",
    "    cx = int(si[0] + 0.5 * (ss - 1)) \n",
    "    cy = int(si[1] + (ss - 1))\n",
    "    if ff[cy, cx] == 0:\n",
    "        ff[cy, cx] = edge_val\n",
    "    \n",
    "    # 4つの領域\n",
    "    for i in range(4):\n",
    "        ssi = si + di[i] * (ss - 1) * 0.5\n",
    "        ssi = ssi.astype(np.int)\n",
    "        update(ssi, nn - 1, alpha=alpha)\n",
    "\n",
    "# test         \n",
    "nn = 4\n",
    "ss = 2 ** nn + 1\n",
    "ff = np.zeros((ss, ss))\n",
    "ff[0, 0] = 1\n",
    "ff[ss - 1, 0] = 1\n",
    "ff[ss - 1, ss - 1] = 1\n",
    "ff[0, ss - 1] = 1\n",
    "print('ff', ff.shape)\n",
    "si = np.array([0, 0], dtype=np.uint8)\n",
    "update(si, nn, alpha=0.0)\n",
    "plt.figure(figsize=(6, 6))\n",
    "plt.imshow(ff, cmap='ocean')\n",
    "plt.show()"
   ]
  },
  {
   "cell_type": "code",
   "execution_count": 345,
   "metadata": {},
   "outputs": [
    {
     "data": {
      "text/plain": [
       "(17, 17)"
      ]
     },
     "execution_count": 345,
     "metadata": {},
     "output_type": "execute_result"
    }
   ],
   "source": [
    "ff.shape"
   ]
  },
  {
   "cell_type": "code",
   "execution_count": null,
   "metadata": {},
   "outputs": [],
   "source": []
  },
  {
   "cell_type": "code",
   "execution_count": null,
   "metadata": {},
   "outputs": [],
   "source": []
  },
  {
   "cell_type": "code",
   "execution_count": null,
   "metadata": {},
   "outputs": [],
   "source": []
  },
  {
   "cell_type": "code",
   "execution_count": null,
   "metadata": {},
   "outputs": [],
   "source": []
  },
  {
   "cell_type": "code",
   "execution_count": null,
   "metadata": {},
   "outputs": [],
   "source": []
  }
 ],
 "metadata": {
  "kernelspec": {
   "display_name": "Python 3",
   "language": "python",
   "name": "python3"
  },
  "language_info": {
   "codemirror_mode": {
    "name": "ipython",
    "version": 3
   },
   "file_extension": ".py",
   "mimetype": "text/x-python",
   "name": "python",
   "nbconvert_exporter": "python",
   "pygments_lexer": "ipython3",
   "version": "3.7.3"
  }
 },
 "nbformat": 4,
 "nbformat_minor": 2
}
